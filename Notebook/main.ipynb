version https://git-lfs.github.com/spec/v1
oid sha256:347141abc52302fc72746349c1c0e171b7efa6e20aaacbf32030565bebe05624
size 1410764
